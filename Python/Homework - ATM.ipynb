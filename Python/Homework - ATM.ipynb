{
 "cells":[
  {
   "cell_type":"markdown",
   "source":[
    "# ATM"
   ],
   "attachments":{
    
   },
   "metadata":{
    "datalore":{
     "node_id":"ATM",
     "type":"MD",
     "hide_input_from_viewers":false,
     "hide_output_from_viewers":false,
     "sheet_delimiter":true
    }
   }
  },
  {
   "cell_type":"code",
   "source":[
    "class ATM:\n",
    "    #double undescore >> dunder\n",
    "    def __init__(self, pin, name, balance ):\n",
    "        self.pin = pin\n",
    "        self.name = name\n",
    "        self.balance = balance\n",
    "#1\n",
    "    def deposit(self,money):\n",
    "        self.balance += money\n",
    "        print(f\"Deposit money(Baht):{money}\")\n",
    "        print(\"Deposit successfully\")\n",
    "        print(f\"New balance(Baht):{self.balance}\")\n",
    "        print(\"--------------------------\")\n",
    "#2\n",
    "    def tranfer(self,tranfer):\n",
    "        self.balance -= tranfer\n",
    "        print(f\"Tranfer money(Baht):{tranfer}\")\n",
    "        print(\"Tranfer successfully\")\n",
    "        print(f\"New balance(Baht):{self.balance}\")\n",
    "        print(\"--------------------------\")\n",
    "#3\n",
    "    def withdraw(self,withdraw):\n",
    "        self.balance -= withdraw\n",
    "        print(f\"Withdraw money(Baht):{withdraw}\")\n",
    "        print(\"Withdraw successfully\")\n",
    "        print(f\"Total balance(Baht):{self.balance}\")\n",
    "        print(\"--------------------------\")\n",
    "#4 \n",
    "    def pay_bill(self,bills):\n",
    "        self.balance -= bills\n",
    "        print(f\"You pay bills {bills} baht\")\n",
    "        print(f\"Your Total balance: {self.balance}\")\n",
    "        print(\"--------------------------\")\n",
    "#5\n",
    "    def check_balance(self):\n",
    "         print(\"--------------------------\")\n",
    "         print(\"Check balance\")\n",
    "         print(f\"Your Total balance: {self.balance}\")\n",
    "   \n"
   ],
   "execution_count":1,
   "outputs":[
    
   ],
   "metadata":{
    "datalore":{
     "node_id":"UpGMWU9uyQsjYZzbquti2Y",
     "type":"CODE",
     "hide_input_from_viewers":false,
     "hide_output_from_viewers":false,
     "report_properties":{
      "y":0
     }
    }
   }
  },
  {
   "cell_type":"code",
   "source":[
    "print(\" 'Welcome to SCB ATM!' \")\n",
    "pin = int(input(\"Enter PIN 4 Digit: \"))\n",
    "name = str(input(\"Enter Your Name: \"))\n",
    "balance = float(input(\"Enter Your Balance: \"))\n",
    "\n",
    "\n",
    "scb = ATM(pin,name,balance)\n",
    "\n",
    "print(f\"Your current balance: {scb.balance}  \")\n",
    "\n",
    "print(\"-------------------\")\n",
    "print(\"Please Select transaction number  \")\n",
    "print(\"Deposit: 1\")\n",
    "print(\"Transfer: 2\")\n",
    "print(\"Withdraw: 3\")\n",
    "print(\"Pay Bills: 4\")\n",
    "print(\"Check Balance: 5\")\n",
    "\n",
    "\n"
   ],
   "execution_count":2,
   "outputs":[
    {
     "name":"stdout",
     "text":[
      " 'Welcome to SCB ATM!' \n"
     ],
     "output_type":"stream"
    }
   ],
   "metadata":{
    "datalore":{
     "node_id":"XsGPbSji9FvgXSBSbFIzij",
     "type":"CODE",
     "hide_input_from_viewers":false,
     "hide_output_from_viewers":false,
     "report_properties":{
      "y":20
     }
    }
   }
  },
  {
   "cell_type":"markdown",
   "source":[
    "# Deposit"
   ],
   "attachments":{
    
   },
   "metadata":{
    "datalore":{
     "node_id":"OUrzXhjBk2UVqSccFwAq2V",
     "type":"MD",
     "hide_input_from_viewers":false,
     "hide_output_from_viewers":false,
     "report_properties":{
      "y":32
     }
    }
   }
  },
  {
   "cell_type":"code",
   "source":[
    "#Deposit \n",
    "\n",
    "print(\"-------------------\")\n",
    "transaction = int(input(\"Your transaction: \"))\n",
    "\n",
    "\n",
    "if transaction == 1:\n",
    "    print(\"Deposit\")\n",
    "    Deposit_money = float(input(\"Amount: \"))\n",
    "    scb.deposit(Deposit_money)\n",
    "    print(\"Thank you!\")\n",
    "\n",
    "elif transaction == 2:\n",
    "    print(\"Transfer\")\n",
    "    Transfer_money = float(input(\"Amount: \"))\n",
    "    scb.tranfer(Transfer_money)\n",
    "    print(\"Thank you!\")\n",
    "\n",
    "elif transaction == 3:\n",
    "    print(\"Withdraw\")\n",
    "    Withdraw_money = float(input(\"Withdraw Amount: \"))\n",
    "    scb.withdraw(Withdraw_money)\n",
    "    print(\"Thank you!\")\n",
    "\n",
    "elif transaction == 4:\n",
    "    print(\"Pay Bills\")\n",
    "    Pay_money = float(input(\"Bill Amount: \"))\n",
    "    scb.pay_bill(Pay_money)\n",
    "    print(\"Thank you!\")\n",
    "elif transaction == 5:\n",
    "    print(\"Check Balance\")\n",
    "    scb.check_balance()\n",
    "    print(\"Thank you!\")\n",
    "else:\n",
    "    print(\"thank you\")"
   ],
   "execution_count":50,
   "outputs":[
    {
     "name":"stdout",
     "text":[
      "-------------------\n",
      "Your transaction:  1\n",
      "Deposit\n",
      "Amount:  200\n",
      "Deposit money(Baht):200.0\n",
      "Deposit successfully\n",
      "New balance(Baht):10200.0\n",
      "--------------------------\n",
      "Thank you!\n"
     ],
     "output_type":"stream"
    }
   ],
   "metadata":{
    "datalore":{
     "node_id":"TTtaIVrA0LNLItXXSHsXT3",
     "type":"CODE",
     "hide_input_from_viewers":false,
     "hide_output_from_viewers":false,
     "report_properties":{
      "y":36
     }
    }
   }
  },
  {
   "cell_type":"markdown",
   "source":[
    "# Trasnfer "
   ],
   "attachments":{
    
   },
   "metadata":{
    "datalore":{
     "node_id":"ZcroW7ZdtgtFS55rnF9XGp",
     "type":"MD",
     "hide_input_from_viewers":false,
     "hide_output_from_viewers":false,
     "report_properties":{
      "y":59
     }
    }
   }
  },
  {
   "cell_type":"code",
   "source":[
    "#transfer\n",
    "\n",
    "print(\"-------------------\")\n",
    "transaction = int(input(\"Your transaction: \"))\n",
    "\n",
    "\n",
    "if transaction == 1:\n",
    "    print(\"Deposit\")\n",
    "    Deposit_money = float(input(\"Amount: \"))\n",
    "    scb.deposit(Deposit_money)\n",
    "    print(\"Thank you!\")\n",
    "\n",
    "elif transaction == 2:\n",
    "    print(\"Transfer\")\n",
    "    Transfer_money = float(input(\"Amount: \"))\n",
    "    scb.tranfer(Transfer_money)\n",
    "    print(\"Thank you!\")\n",
    "\n",
    "elif transaction == 3:\n",
    "    print(\"Withdraw\")\n",
    "    Withdraw_money = float(input(\"Withdraw Amount: \"))\n",
    "    scb.withdraw(Withdraw_money)\n",
    "    print(\"Thank you!\")\n",
    "\n",
    "elif transaction == 4:\n",
    "    print(\"Pay Bills\")\n",
    "    Pay_money = float(input(\"Bill Amount: \"))\n",
    "    scb.pay_bill(Pay_money)\n",
    "    print(\"Thank you!\")\n",
    "elif transaction == 5:\n",
    "    print(\"Check Balance\")\n",
    "    scb.check_balance()\n",
    "    print(\"Thank you!\")\n",
    "else:\n",
    "    print(\"thank you\")"
   ],
   "execution_count":51,
   "outputs":[
    {
     "name":"stdout",
     "text":[
      "-------------------\n",
      "Your transaction:  2\n",
      "Transfer\n",
      "Amount:  500\n",
      "Tranfer money(Baht):500.0\n",
      "Tranfer successfully\n",
      "New balance(Baht):9700.0\n",
      "--------------------------\n",
      "Thank you!\n"
     ],
     "output_type":"stream"
    }
   ],
   "metadata":{
    "datalore":{
     "node_id":"ib90UcYBmj9kX1W2mRaxsh",
     "type":"CODE",
     "hide_input_from_viewers":false,
     "hide_output_from_viewers":false,
     "report_properties":{
      "y":63
     }
    }
   }
  },
  {
   "cell_type":"markdown",
   "source":[
    "# Withdraw"
   ],
   "attachments":{
    
   },
   "metadata":{
    "datalore":{
     "node_id":"KwALaqwWM3XYvgnfsIOj2v",
     "type":"MD",
     "hide_input_from_viewers":false,
     "hide_output_from_viewers":false,
     "report_properties":{
      "y":86
     }
    }
   }
  },
  {
   "cell_type":"code",
   "source":[
    "\n",
    "\n",
    "print(\"-------------------\")\n",
    "transaction = int(input(\"Your transaction: \"))\n",
    "\n",
    "\n",
    "if transaction == 1:\n",
    "    print(\"Deposit\")\n",
    "    Deposit_money = float(input(\"Amount: \"))\n",
    "    scb.deposit(Deposit_money)\n",
    "    print(\"Thank you!\")\n",
    "\n",
    "elif transaction == 2:\n",
    "    print(\"Transfer\")\n",
    "    Transfer_money = float(input(\"Amount: \"))\n",
    "    scb.tranfer(Transfer_money)\n",
    "    print(\"Thank you!\")\n",
    "\n",
    "elif transaction == 3:\n",
    "    print(\"Withdraw\")\n",
    "    Withdraw_money = float(input(\"Withdraw Amount: \"))\n",
    "    scb.withdraw(Withdraw_money)\n",
    "    print(\"Thank you!\")\n",
    "\n",
    "elif transaction == 4:\n",
    "    print(\"Pay Bills\")\n",
    "    Pay_money = float(input(\"Bill Amount: \"))\n",
    "    scb.pay_bill(Pay_money)\n",
    "    print(\"Thank you!\")\n",
    "elif transaction == 5:\n",
    "    print(\"Check Balance\")\n",
    "    scb.check_balance()\n",
    "    print(\"Thank you!\")\n",
    "else:\n",
    "    print(\"thank you\")"
   ],
   "execution_count":53,
   "outputs":[
    {
     "name":"stdout",
     "text":[
      "-------------------\n",
      "Your transaction:  3\n",
      "Withdraw\n",
      "Withdraw Amount:  150\n",
      "Withdraw money(Baht):150.0\n",
      "Withdraw successfully\n",
      "Total balance(Baht):9550.0\n",
      "--------------------------\n",
      "Thank you!\n"
     ],
     "output_type":"stream"
    }
   ],
   "metadata":{
    "datalore":{
     "node_id":"oQ1A5ZOXT7QRPFyuqGXrxB",
     "type":"CODE",
     "hide_input_from_viewers":false,
     "hide_output_from_viewers":false,
     "report_properties":{
      "y":90
     }
    }
   }
  },
  {
   "cell_type":"markdown",
   "source":[
    "# Pay Bills"
   ],
   "attachments":{
    
   },
   "metadata":{
    "datalore":{
     "node_id":"1kdGcb5uu9dROgWd5nOetc",
     "type":"MD",
     "hide_input_from_viewers":false,
     "hide_output_from_viewers":false,
     "report_properties":{
      "y":113
     }
    }
   }
  },
  {
   "cell_type":"code",
   "source":[
    "\n",
    "\n",
    "print(\"-------------------\")\n",
    "transaction = int(input(\"Your transaction: \"))\n",
    "\n",
    "\n",
    "if transaction == 1:\n",
    "    print(\"Deposit\")\n",
    "    Deposit_money = float(input(\"Amount: \"))\n",
    "    scb.deposit(Deposit_money)\n",
    "    print(\"Thank you!\")\n",
    "\n",
    "elif transaction == 2:\n",
    "    print(\"Transfer\")\n",
    "    Transfer_money = float(input(\"Amount: \"))\n",
    "    scb.tranfer(Transfer_money)\n",
    "    print(\"Thank you!\")\n",
    "\n",
    "elif transaction == 3:\n",
    "    print(\"Withdraw\")\n",
    "    Withdraw_money = float(input(\"Withdraw Amount: \"))\n",
    "    scb.withdraw(Withdraw_money)\n",
    "    print(\"Thank you!\")\n",
    "\n",
    "elif transaction == 4:\n",
    "    print(\"Pay Bills\")\n",
    "    Pay_money = float(input(\"Bill Amount: \"))\n",
    "    scb.pay_bill(Pay_money)\n",
    "    print(\"Thank you!\")\n",
    "elif transaction == 5:\n",
    "    print(\"Check Balance\")\n",
    "    scb.check_balance()\n",
    "    print(\"Thank you!\")\n",
    "else:\n",
    "    print(\"thank you\")"
   ],
   "execution_count":54,
   "outputs":[
    {
     "name":"stdout",
     "text":[
      "-------------------\n",
      "Your transaction:  4\n",
      "Pay Bills\n",
      "Bill Amount:  400\n",
      "You pay bills 400.0 baht\n",
      "Your Total balance: 9150.0\n",
      "--------------------------\n",
      "Thank you!\n"
     ],
     "output_type":"stream"
    }
   ],
   "metadata":{
    "datalore":{
     "node_id":"1sIRYzRRdRAxApNQrXB1aW",
     "type":"CODE",
     "hide_input_from_viewers":false,
     "hide_output_from_viewers":false,
     "report_properties":{
      "y":117
     }
    }
   }
  },
  {
   "cell_type":"markdown",
   "source":[
    "# Check Balance"
   ],
   "attachments":{
    
   },
   "metadata":{
    "datalore":{
     "node_id":"aI4T8gRk2C4u82LxdQoUo4",
     "type":"MD",
     "hide_input_from_viewers":false,
     "hide_output_from_viewers":false,
     "report_properties":{
      "y":139
     }
    }
   }
  },
  {
   "cell_type":"code",
   "source":[
    "\n",
    "\n",
    "print(\"-------------------\")\n",
    "transaction = int(input(\"Your transaction: \"))\n",
    "\n",
    "\n",
    "if transaction == 1:\n",
    "    print(\"Deposit\")\n",
    "    Deposit_money = float(input(\"Amount: \"))\n",
    "    scb.deposit(Deposit_money)\n",
    "    print(\"Thank you!\")\n",
    "\n",
    "elif transaction == 2:\n",
    "    print(\"Transfer\")\n",
    "    Transfer_money = float(input(\"Amount: \"))\n",
    "    scb.tranfer(Transfer_money)\n",
    "    print(\"Thank you!\")\n",
    "\n",
    "elif transaction == 3:\n",
    "    print(\"Withdraw\")\n",
    "    Withdraw_money = float(input(\"Withdraw Amount: \"))\n",
    "    scb.withdraw(Withdraw_money)\n",
    "    print(\"Thank you!\")\n",
    "\n",
    "elif transaction == 4:\n",
    "    print(\"Pay Bills\")\n",
    "    Pay_money = float(input(\"Bill Amount: \"))\n",
    "    scb.pay_bill(Pay_money)\n",
    "    print(\"Thank you!\")\n",
    "elif transaction == 5:\n",
    "    print(\"Check Balance\")\n",
    "    scb.check_balance()\n",
    "    print(\"Thank you!\")\n",
    "else:\n",
    "    print(\"thank you\")"
   ],
   "execution_count":55,
   "outputs":[
    {
     "name":"stdout",
     "text":[
      "-------------------\n",
      "Your transaction:  5\n",
      "Check Balance\n",
      "--------------------------\n",
      "Check balance\n",
      "Your Total balance: 9150.0\n",
      "Thank you!\n"
     ],
     "output_type":"stream"
    }
   ],
   "metadata":{
    "datalore":{
     "node_id":"REBPyxLusvVBfE1PDE9DXz",
     "type":"CODE",
     "hide_input_from_viewers":false,
     "hide_output_from_viewers":false,
     "report_properties":{
      "y":143
     }
    }
   }
  }
 ],
 "metadata":{
  "kernelspec":{
   "display_name":"Python",
   "language":"python",
   "name":"python"
  },
  "datalore":{
   "version":1,
   "computation_mode":"JUPYTER",
   "package_manager":"pip",
   "base_environment":"default",
   "packages":[
    
   ]
  }
 },
 "nbformat":4,
 "nbformat_minor":4
}